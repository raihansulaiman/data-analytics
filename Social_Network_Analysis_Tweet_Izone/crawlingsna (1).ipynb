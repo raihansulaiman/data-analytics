{
  "nbformat": 4,
  "nbformat_minor": 0,
  "metadata": {
    "colab": {
      "name": "crawlingsna.ipynb",
      "provenance": []
    },
    "kernelspec": {
      "name": "ir",
      "display_name": "R"
    }
  },
  "cells": [
    {
      "cell_type": "code",
      "metadata": {
        "id": "qEVxjQTUg7O3",
        "outputId": "8a58c6c2-6ae1-4c7d-d351-824b31bbc4b1",
        "colab": {
          "base_uri": "https://localhost:8080/"
        }
      },
      "source": [
        "install.packages(\"httr\")"
      ],
      "execution_count": 1,
      "outputs": [
        {
          "output_type": "stream",
          "text": [
            "Installing package into ‘/usr/local/lib/R/site-library’\n",
            "(as ‘lib’ is unspecified)\n",
            "\n"
          ],
          "name": "stderr"
        }
      ]
    },
    {
      "cell_type": "code",
      "metadata": {
        "id": "As-bwdcEhdtW",
        "outputId": "196323a2-93f0-452c-ac8b-372628d46b32",
        "colab": {
          "base_uri": "https://localhost:8080/"
        }
      },
      "source": [
        "install.packages(\"twitteR\")"
      ],
      "execution_count": 2,
      "outputs": [
        {
          "output_type": "stream",
          "text": [
            "Installing package into ‘/usr/local/lib/R/site-library’\n",
            "(as ‘lib’ is unspecified)\n",
            "\n",
            "also installing the dependencies ‘bit’, ‘bit64’, ‘rjson’\n",
            "\n",
            "\n"
          ],
          "name": "stderr"
        }
      ]
    },
    {
      "cell_type": "code",
      "metadata": {
        "id": "S7kwElQmhmGu"
      },
      "source": [
        "library(\"httr\")"
      ],
      "execution_count": 3,
      "outputs": []
    },
    {
      "cell_type": "code",
      "metadata": {
        "id": "AQjYKO17hqz3"
      },
      "source": [
        "library(\"twitteR\")"
      ],
      "execution_count": 4,
      "outputs": []
    },
    {
      "cell_type": "code",
      "metadata": {
        "id": "DT501gOHiKXV",
        "outputId": "a067051a-cf6f-4d11-acdf-6110b1ecc534",
        "colab": {
          "base_uri": "https://localhost:8080/"
        }
      },
      "source": [
        "#setup_twitter_oauth(\"ConsumerKey\",\"ConsumerSecretKey\", \"AccessToken\", \"AccessSecretToken\")\n",
        "setup_twitter_oauth('oMKZC0ZAdZxUaZiyxANl0AkLg','HgJTCOhBI7cWpfCJxC3X9AB9vPwziFq36p7z92di2UKe1r0N3n','1165083073022550016-CoXfgvfjYkhRiS5EzKFuTE2pHj8eCS','4vluh4wiP6G8KgLaQ6s6CcizKo1kwbMBzstXbuS6ucn2k')"
      ],
      "execution_count": 9,
      "outputs": [
        {
          "output_type": "stream",
          "text": [
            "[1] \"Using direct authentication\"\n"
          ],
          "name": "stdout"
        }
      ]
    },
    {
      "cell_type": "code",
      "metadata": {
        "id": "9U1qMp6IiqTt"
      },
      "source": [
        "tweets<- searchTwitter(\"izone_permanent\",lang=\"en\", n=1000)"
      ],
      "execution_count": 16,
      "outputs": []
    },
    {
      "cell_type": "code",
      "metadata": {
        "id": "dSpVtoC0iwwt"
      },
      "source": [
        "tweets<- twListToDF(tweets)"
      ],
      "execution_count": 17,
      "outputs": []
    },
    {
      "cell_type": "code",
      "metadata": {
        "id": "5Ic5z2Lei2Ag"
      },
      "source": [
        "write.csv(tweets,\"izone_permanent.csv\", row.names = FALSE)"
      ],
      "execution_count": 18,
      "outputs": []
    }
  ]
}